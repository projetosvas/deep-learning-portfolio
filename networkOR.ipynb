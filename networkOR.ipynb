{
 "cells": [
  {
   "cell_type": "code",
   "execution_count": 13,
   "id": "48b7714e",
   "metadata": {},
   "outputs": [
    {
     "data": {
      "image/png": "[encoded data removed]",
      "text/plain": [
       "<Figure size 640x480 with 1 Axes>"
      ]
     },
     "metadata": {},
     "output_type": "display_data"
    }
   ],
   "source": [
    "\"\"\"\n",
    "MLP for Logic Gate OR\n",
    "\n",
    "Goal: Implement a simple perceptron to simulate logic function\n",
    "\n",
    "- Build a perceptron to learn the OR logic function\n",
    "- Use binary inputs (0, 1)\n",
    "\n",
    "\"\"\"\n",
    "\n",
    "from tensorflow import keras\n",
    "from tensorflow.keras import layers\n",
    "from tensorflow.keras.optimizers import Adam\n",
    "import numpy as np\n",
    "import matplotlib.pyplot as plt\n",
    "\n",
    "\n",
    "\n",
    "x = np.array([[0, 0], \n",
    "     [1, 0], \n",
    "     [0, 1], \n",
    "     [1, 1],\n",
    "     [0, 0],\n",
    "     [1, 0], \n",
    "     [0, 1], \n",
    "     [1, 1],\n",
    "     [0, 0], \n",
    "     [0, 1], \n",
    "     [1, 1]])\n",
    "\n",
    "y = np.array([0, 1, 1, 1, 0, 1, 1, 1, 0, 1, 1])\n",
    "\n",
    "colors = ['blue' if label == 1 else 'red' for label in y]\n",
    "\n",
    "plt.scatter(x[:,0], x[:, 1] , c=colors)\n",
    "plt.xlabel(\"A\")\n",
    "plt.ylabel(\"B\")\n",
    "plt.title(\"Logic Gate AND\")\n",
    "plt.show()"
   ]
  },
  {
   "cell_type": "code",
   "execution_count": 18,
   "id": "3c418de7",
   "metadata": {},
   "outputs": [
    {
     "name": "stdout",
     "output_type": "stream",
     "text": [
      "Model: \"OR_Network\"\n",
      "_________________________________________________________________\n",
      " Layer (type)                Output Shape              Param #   \n",
      "=================================================================\n",
      " inputLayer (InputLayer)     [(None, 2)]               0         \n",
      "                                                                 \n",
      " hidden (Dense)              (None, 8)                 24        \n",
      "                                                                 \n",
      " output (Dense)              (None, 1)                 9         \n",
      "                                                                 \n",
      "=================================================================\n",
      "Total params: 33 (132.00 Byte)\n",
      "Trainable params: 33 (132.00 Byte)\n",
      "Non-trainable params: 0 (0.00 Byte)\n",
      "_________________________________________________________________\n"
     ]
    }
   ],
   "source": [
    "inputs = keras.Input(shape=(2,), name=\"inputLayer\")\n",
    "hidden = layers.Dense(8, activation=\"relu\", name=\"hidden\")(inputs)\n",
    "outputs = layers.Dense(1, activation=\"sigmoid\", name=\"output\")(hidden)\n",
    "\n",
    "model = keras.Model(inputs=inputs, outputs=outputs, name=\"OR_Network\")\n",
    "model.summary()"
   ]
  },
  {
   "cell_type": "code",
   "execution_count": 22,
   "id": "bfff8f88",
   "metadata": {},
   "outputs": [
    {
     "name": "stdout",
     "output_type": "stream",
     "text": [
      "Epoch 1/10\n",
      "1/1 [==============================] - 1s 866ms/step - loss: 0.5694 - accuracy: 0.7273\n",
      "Epoch 2/10\n",
      "1/1 [==============================] - 0s 4ms/step - loss: 0.4723 - accuracy: 0.7273\n",
      "Epoch 3/10\n",
      "1/1 [==============================] - 0s 4ms/step - loss: 0.4097 - accuracy: 0.7273\n",
      "Epoch 4/10\n",
      "1/1 [==============================] - 0s 6ms/step - loss: 0.3697 - accuracy: 0.7273\n",
      "Epoch 5/10\n",
      "1/1 [==============================] - 0s 5ms/step - loss: 0.3261 - accuracy: 0.7273\n",
      "Epoch 6/10\n",
      "1/1 [==============================] - 0s 7ms/step - loss: 0.2847 - accuracy: 0.7273\n",
      "Epoch 7/10\n",
      "1/1 [==============================] - 0s 4ms/step - loss: 0.2444 - accuracy: 0.7273\n",
      "Epoch 8/10\n",
      "1/1 [==============================] - 0s 1ms/step - loss: 0.2176 - accuracy: 0.7273\n",
      "Epoch 9/10\n",
      "1/1 [==============================] - 0s 7ms/step - loss: 0.2040 - accuracy: 0.7273\n",
      "Epoch 10/10\n",
      "1/1 [==============================] - 0s 4ms/step - loss: 0.1908 - accuracy: 1.0000\n"
     ]
    },
    {
     "data": {
      "text/plain": [
       "<keras.src.callbacks.History at 0x11beed4e8e0>"
      ]
     },
     "execution_count": 22,
     "metadata": {},
     "output_type": "execute_result"
    }
   ],
   "source": [
    "optimizer = Adam(learning_rate=0.1)\n",
    "model.compile(optimizer=optimizer,\n",
    "               loss=\"binary_crossentropy\",\n",
    "               metrics=[\"accuracy\"])\n",
    "\n",
    "model.fit(x=x, y=y, epochs=10)"
   ]
  },
  {
   "cell_type": "code",
   "execution_count": 27,
   "id": "c364cf42",
   "metadata": {},
   "outputs": [
    {
     "name": "stdout",
     "output_type": "stream",
     "text": [
      "1/1 [==============================] - 0s 14ms/step\n",
      "yPred Probabilite = [[0.4647029]]\n",
      "yPred = [[0.]]\n"
     ]
    }
   ],
   "source": [
    "xTest = np.array([[0, 0]])\n",
    "yPred = model.predict(x=xTest)\n",
    "print(f\"yPred Probabilite = {yPred}\")\n",
    "yPred = np.round(yPred)\n",
    "print(f\"yPred = {yPred}\")"
   ]
  }
 ],
 "metadata": {
  "kernelspec": {
   "display_name": "3.9.13",
   "language": "python",
   "name": "python3"
  },
  "language_info": {
   "codemirror_mode": {
    "name": "ipython",
    "version": 3
   },
   "file_extension": ".py",
   "mimetype": "text/x-python",
   "name": "python",
   "nbconvert_exporter": "python",
   "pygments_lexer": "ipython3",
   "version": "3.9.13"
  }
 },
 "nbformat": 4,
 "nbformat_minor": 5
}
