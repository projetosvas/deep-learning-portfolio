{
 "cells": [
  {
   "cell_type": "markdown",
   "id": "1dadaf69",
   "metadata": {},
   "source": [
    "# Exercise 2 – Simple Pattern Classification\n",
    "\n",
    "Goal: Use a small MLP to solve a non-linear problem.\n",
    "\n",
    "Generate 2D points in the plane (x,y).\n",
    "\n",
    "Label them as class 1 if inside a circle of radius 1, and class 0 otherwise.\n",
    "\n",
    "Train an MLP with one hidden layer to classify the points correctly.\n",
    "\n",
    "Compare results with a single perceptron and discuss."
   ]
  },
  {
   "cell_type": "code",
   "execution_count": 16,
   "id": "398c76f3",
   "metadata": {},
   "outputs": [
    {
     "data": {
      "image/png": "[encoded data removed]",
      "text/plain": [
       "<Figure size 640x480 with 1 Axes>"
      ]
     },
     "metadata": {},
     "output_type": "display_data"
    }
   ],
   "source": [
    "import numpy as np\n",
    "import matplotlib.pyplot as plt\n",
    "\n",
    "x = np.array([\n",
    "    [6.5, 5.00],\n",
    "    [2.46, 2.36],\n",
    "    [2.63, 6.04],\n",
    "    [4.56, 2.02],\n",
    "    [5.27, 3.64],\n",
    "    [4.83, 5.68],\n",
    "    [6.23, 6.52],\n",
    "    [7.50, 4.18],\n",
    "    [8.68, 7.42],\n",
    "    [7.15, 9.26],\n",
    "    [8.61, 2.10],\n",
    "    [2.85, 0.43],\n",
    "    [0.96, 1.10],\n",
    "    [2.51, 4.15],\n",
    "    [6.45, 3.38],\n",
    "    [4.40, 4.71],\n",
    "    [7.64, 5.95]\n",
    "    ])\n",
    "\n",
    "y = np.array([1, 0, 0, 0, 1, 1, 1, 1, 0, 0, 0, 0, 0, 0, 1, 1, 1])\n",
    "\n",
    "colors = ['blue' if label == 1 else 'red' for label in y]\n",
    "\n",
    "plt.scatter(x[:, 0], x[:, 1], c=colors)\n",
    "plt.xlabel(\"X1\")\n",
    "plt.ylabel(\"X2\")\n",
    "plt.show()"
   ]
  },
  {
   "cell_type": "code",
   "execution_count": 28,
   "id": "d0c4e8de",
   "metadata": {},
   "outputs": [
    {
     "data": {
      "image/png": "[encoded data removed]",
      "text/plain": [
       "<IPython.core.display.Image object>"
      ]
     },
     "execution_count": 28,
     "metadata": {},
     "output_type": "execute_result"
    }
   ],
   "source": [
    "from tensorflow import keras\n",
    "from tensorflow.keras import layers\n",
    "\n",
    "inputs = layers.Input(shape=(2,), name=\"InputLayer\")\n",
    "hidden = layers.Dense(16, activation=\"relu\", name=\"HiddenLayer\")(inputs)\n",
    "outputs = layers.Dense(1, activation=\"sigmoid\", name=\"OutputLayer\")(hidden)\n",
    "\n",
    "model = keras.Model(inputs=inputs, outputs=outputs, name=\"CircleNetwork\")\n",
    "\n",
    "keras.utils.plot_model(model, \"CircleNetwork.png\", show_shapes=True)"
   ]
  },
  {
   "cell_type": "code",
   "execution_count": 32,
   "id": "7f43ad7e",
   "metadata": {},
   "outputs": [
    {
     "name": "stdout",
     "output_type": "stream",
     "text": [
      "Epoch 1/50\n",
      "1/1 [==============================] - 0s 291ms/step - loss: 0.4307 - accuracy: 0.8235\n",
      "Epoch 2/50\n",
      "1/1 [==============================] - 0s 3ms/step - loss: 1.1151 - accuracy: 0.5294\n",
      "Epoch 3/50\n",
      "1/1 [==============================] - 0s 2ms/step - loss: 1.0089 - accuracy: 0.6471\n",
      "Epoch 4/50\n",
      "1/1 [==============================] - 0s 3ms/step - loss: 1.2849 - accuracy: 0.5294\n",
      "Epoch 5/50\n",
      "1/1 [==============================] - 0s 5ms/step - loss: 0.8273 - accuracy: 0.7059\n",
      "Epoch 6/50\n",
      "1/1 [==============================] - 0s 3ms/step - loss: 0.4488 - accuracy: 0.7647\n",
      "Epoch 7/50\n",
      "1/1 [==============================] - 0s 5ms/step - loss: 0.7006 - accuracy: 0.6471\n",
      "Epoch 8/50\n",
      "1/1 [==============================] - 0s 2ms/step - loss: 0.8078 - accuracy: 0.5882\n",
      "Epoch 9/50\n",
      "1/1 [==============================] - 0s 2ms/step - loss: 0.5743 - accuracy: 0.8235\n",
      "Epoch 10/50\n",
      "1/1 [==============================] - 0s 4ms/step - loss: 0.4188 - accuracy: 0.8235\n",
      "Epoch 11/50\n",
      "1/1 [==============================] - 0s 6ms/step - loss: 0.4842 - accuracy: 0.8235\n",
      "Epoch 12/50\n",
      "1/1 [==============================] - 0s 4ms/step - loss: 0.5740 - accuracy: 0.8235\n",
      "Epoch 13/50\n",
      "1/1 [==============================] - 0s 2ms/step - loss: 0.5882 - accuracy: 0.8235\n",
      "Epoch 14/50\n",
      "1/1 [==============================] - 0s 4ms/step - loss: 0.5543 - accuracy: 0.8235\n",
      "Epoch 15/50\n",
      "1/1 [==============================] - 0s 3ms/step - loss: 0.4959 - accuracy: 0.8235\n",
      "Epoch 16/50\n",
      "1/1 [==============================] - 0s 4ms/step - loss: 0.4486 - accuracy: 0.8235\n",
      "Epoch 17/50\n",
      "1/1 [==============================] - 0s 4ms/step - loss: 0.4370 - accuracy: 0.8824\n",
      "Epoch 18/50\n",
      "1/1 [==============================] - 0s 3ms/step - loss: 0.4464 - accuracy: 0.7647\n",
      "Epoch 19/50\n",
      "1/1 [==============================] - 0s 3ms/step - loss: 0.4562 - accuracy: 0.7647\n",
      "Epoch 20/50\n",
      "1/1 [==============================] - 0s 6ms/step - loss: 0.4672 - accuracy: 0.7647\n",
      "Epoch 21/50\n",
      "1/1 [==============================] - 0s 4ms/step - loss: 0.4733 - accuracy: 0.7647\n",
      "Epoch 22/50\n",
      "1/1 [==============================] - 0s 4ms/step - loss: 0.4696 - accuracy: 0.7647\n",
      "Epoch 23/50\n",
      "1/1 [==============================] - 0s 5ms/step - loss: 0.4578 - accuracy: 0.7647\n",
      "Epoch 24/50\n",
      "1/1 [==============================] - 0s 3ms/step - loss: 0.4456 - accuracy: 0.7647\n",
      "Epoch 25/50\n",
      "1/1 [==============================] - 0s 4ms/step - loss: 0.4309 - accuracy: 0.8235\n",
      "Epoch 26/50\n",
      "1/1 [==============================] - 0s 3ms/step - loss: 0.4190 - accuracy: 0.8235\n",
      "Epoch 27/50\n",
      "1/1 [==============================] - 0s 3ms/step - loss: 0.4136 - accuracy: 0.8824\n",
      "Epoch 28/50\n",
      "1/1 [==============================] - 0s 4ms/step - loss: 0.4111 - accuracy: 0.8824\n",
      "Epoch 29/50\n",
      "1/1 [==============================] - 0s 2ms/step - loss: 0.4045 - accuracy: 0.8824\n",
      "Epoch 30/50\n",
      "1/1 [==============================] - 0s 5ms/step - loss: 0.3925 - accuracy: 0.8824\n",
      "Epoch 31/50\n",
      "1/1 [==============================] - 0s 3ms/step - loss: 0.3809 - accuracy: 0.8824\n",
      "Epoch 32/50\n",
      "1/1 [==============================] - 0s 3ms/step - loss: 0.3713 - accuracy: 0.8235\n",
      "Epoch 33/50\n",
      "1/1 [==============================] - 0s 3ms/step - loss: 0.3625 - accuracy: 0.8824\n",
      "Epoch 34/50\n",
      "1/1 [==============================] - 0s 4ms/step - loss: 0.3548 - accuracy: 0.8824\n",
      "Epoch 35/50\n",
      "1/1 [==============================] - 0s 4ms/step - loss: 0.3480 - accuracy: 0.8824\n",
      "Epoch 36/50\n",
      "1/1 [==============================] - 0s 2ms/step - loss: 0.3485 - accuracy: 0.8824\n",
      "Epoch 37/50\n",
      "1/1 [==============================] - 0s 3ms/step - loss: 0.3482 - accuracy: 0.8824\n",
      "Epoch 38/50\n",
      "1/1 [==============================] - 0s 3ms/step - loss: 0.3374 - accuracy: 0.9412\n",
      "Epoch 39/50\n",
      "1/1 [==============================] - 0s 4ms/step - loss: 0.3352 - accuracy: 0.9412\n",
      "Epoch 40/50\n",
      "1/1 [==============================] - 0s 4ms/step - loss: 0.3384 - accuracy: 0.9412\n",
      "Epoch 41/50\n",
      "1/1 [==============================] - 0s 3ms/step - loss: 0.3364 - accuracy: 0.9412\n",
      "Epoch 42/50\n",
      "1/1 [==============================] - 0s 2ms/step - loss: 0.3301 - accuracy: 0.9412\n",
      "Epoch 43/50\n",
      "1/1 [==============================] - 0s 3ms/step - loss: 0.3255 - accuracy: 0.8824\n",
      "Epoch 44/50\n",
      "1/1 [==============================] - 0s 4ms/step - loss: 0.3215 - accuracy: 0.8824\n",
      "Epoch 45/50\n",
      "1/1 [==============================] - 0s 4ms/step - loss: 0.3169 - accuracy: 0.8824\n",
      "Epoch 46/50\n",
      "1/1 [==============================] - 0s 2ms/step - loss: 0.3125 - accuracy: 0.8824\n",
      "Epoch 47/50\n",
      "1/1 [==============================] - 0s 3ms/step - loss: 0.3081 - accuracy: 0.8824\n",
      "Epoch 48/50\n",
      "1/1 [==============================] - 0s 4ms/step - loss: 0.3041 - accuracy: 0.8824\n",
      "Epoch 49/50\n",
      "1/1 [==============================] - 0s 2ms/step - loss: 0.3034 - accuracy: 0.9412\n",
      "Epoch 50/50\n",
      "1/1 [==============================] - 0s 6ms/step - loss: 0.3029 - accuracy: 0.9412\n"
     ]
    },
    {
     "data": {
      "text/plain": [
       "<keras.src.callbacks.History at 0x274558a7df0>"
      ]
     },
     "execution_count": 32,
     "metadata": {},
     "output_type": "execute_result"
    }
   ],
   "source": [
    "from keras.optimizers import Adam\n",
    "\n",
    "optimizer = Adam(learning_rate= 0.1)\n",
    "model.compile(optimizer=optimizer,\n",
    "              loss=\"binary_crossentropy\",\n",
    "              metrics=[\"accuracy\"])\n",
    "\n",
    "model.fit(x, y, epochs=50)"
   ]
  },
  {
   "cell_type": "code",
   "execution_count": 33,
   "id": "6248bc53",
   "metadata": {},
   "outputs": [
    {
     "name": "stdout",
     "output_type": "stream",
     "text": [
      "1/1 [==============================] - 0s 32ms/step\n",
      "yPredict probabilite: \n",
      "[[0.05235706]\n",
      " [0.2338118 ]\n",
      " [0.98528445]\n",
      " [0.9425772 ]]\n",
      "yPredict Classifier\n",
      "[[0.]\n",
      " [0.]\n",
      " [1.]\n",
      " [1.]]\n"
     ]
    }
   ],
   "source": [
    "xPredict = np.array([\n",
    "    [2.42, 1.70],\n",
    "    [7.43, 9.64],\n",
    "    [10.32, 6.00],\n",
    "    [6.81, 3.73]\n",
    "])\n",
    "yPredict = model.predict(xPredict)\n",
    "print(\"yPredict probabilite: \")\n",
    "print(yPredict)\n",
    "print(\"yPredict Classifier\")\n",
    "print(np.round(yPredict))"
   ]
  }
 ],
 "metadata": {
  "kernelspec": {
   "display_name": "3.9.13",
   "language": "python",
   "name": "python3"
  },
  "language_info": {
   "codemirror_mode": {
    "name": "ipython",
    "version": 3
   },
   "file_extension": ".py",
   "mimetype": "text/x-python",
   "name": "python",
   "nbconvert_exporter": "python",
   "pygments_lexer": "ipython3",
   "version": "3.9.13"
  }
 },
 "nbformat": 4,
 "nbformat_minor": 5
}
